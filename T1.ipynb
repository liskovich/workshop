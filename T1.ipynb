{
  "cells": [
    {
      "cell_type": "markdown",
      "metadata": {
        "id": "8gIBWVF8zACQ"
      },
      "source": [
        "#### Pamata resursi\n",
        "- LangChain: https://www.langchain.com/\n",
        "- LangChain Google Gemini čats: https://python.langchain.com/docs/integrations/chat/google_generative_ai/\n",
        "\n",
        "\n",
        "#### Papildus resursi\n",
        "- Kā izmantot Google colab: https://colab.research.google.com/drive/16pBJQePbqkz3QFV54L4NIkOn1kwpuRrj"
      ]
    },
    {
      "cell_type": "markdown",
      "metadata": {},
      "source": [
        "### Ievadām savu Google API key"
      ]
    },
    {
      "cell_type": "code",
      "execution_count": null,
      "metadata": {
        "colab": {
          "base_uri": "https://localhost:8080/"
        },
        "id": "gr0AAZZcxtMv",
        "outputId": "1b8f11a9-dfde-490e-9878-83fee3a4e23b"
      },
      "outputs": [],
      "source": [
        "import getpass\n",
        "import os\n",
        "\n",
        "if \"GOOGLE_API_KEY\" not in os.environ:\n",
        "    os.environ[\"GOOGLE_API_KEY\"] = getpass.getpass(\"Enter your Google AI API key: \")"
      ]
    },
    {
      "cell_type": "markdown",
      "metadata": {},
      "source": [
        "### Instalē nepieciešamās komponentes"
      ]
    },
    {
      "cell_type": "code",
      "execution_count": null,
      "metadata": {
        "colab": {
          "base_uri": "https://localhost:8080/"
        },
        "id": "Z9qyHobBxuJ_",
        "outputId": "ba394bb6-606f-46fd-97d1-def378bc197a"
      },
      "outputs": [],
      "source": [
        "%pip install -qU langchain-google-genai"
      ]
    },
    {
      "cell_type": "markdown",
      "metadata": {},
      "source": [
        "### Konfigurē modeli"
      ]
    },
    {
      "cell_type": "code",
      "execution_count": null,
      "metadata": {
        "id": "RSzV5MWWyeAp"
      },
      "outputs": [],
      "source": [
        "from langchain_google_genai import ChatGoogleGenerativeAI\n",
        "\n",
        "llm = ChatGoogleGenerativeAI(\n",
        "    model=\"gemini-1.5-flash-001\",\n",
        "    temperature=0,\n",
        "    max_tokens=None,\n",
        "    timeout=None,\n",
        "    max_retries=2,\n",
        ")"
      ]
    },
    {
      "cell_type": "markdown",
      "metadata": {},
      "source": [
        "### Uzdod jautājumu"
      ]
    },
    {
      "cell_type": "code",
      "execution_count": null,
      "metadata": {
        "id": "0CDdfAW_ypN9"
      },
      "outputs": [],
      "source": [
        "def query_llm(question):\n",
        "    messages = [\n",
        "        (\n",
        "            \"system\",\n",
        "            \"You are a helpful assistant that answers questions and provides guidance.\",\n",
        "        ),\n",
        "        (\"human\", question),\n",
        "    ]\n",
        "    ai_msg = llm.invoke(messages)\n",
        "    ai_msg\n",
        "    print(ai_msg.content)"
      ]
    },
    {
      "cell_type": "code",
      "execution_count": null,
      "metadata": {
        "colab": {
          "base_uri": "https://localhost:8080/"
        },
        "id": "NJqHbSYfyxK9",
        "outputId": "20ffebc9-0aec-4a3e-cd7b-6770ac3b7bad"
      },
      "outputs": [],
      "source": [
        "question = input(\"Please enter your question: \")\n",
        "print(f\"Question: {question}\")\n",
        "\n",
        "query_llm(question)"
      ]
    }
  ],
  "metadata": {
    "colab": {
      "provenance": []
    },
    "kernelspec": {
      "display_name": "Python 3",
      "name": "python3"
    },
    "language_info": {
      "name": "python"
    }
  },
  "nbformat": 4,
  "nbformat_minor": 0
}
