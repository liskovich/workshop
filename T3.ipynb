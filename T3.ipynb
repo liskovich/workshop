{
  "cells": [
    {
      "cell_type": "markdown",
      "metadata": {
        "id": "WKj2ZRh8sabU"
      },
      "source": [
        "#### Pamata resursi\n",
        "- LangChain: https://www.langchain.com/\n",
        "- LangChain Google Gemini RAG: https://python.langchain.com/docs/tutorials/rag/\n",
        "- LangChain PDF RAG: https://python.langchain.com/docs/tutorials/pdf_qa/\n",
        "- Google embedding modelis: https://python.langchain.com/docs/integrations/text_embedding/google_generative_ai/\n",
        "- Chroma vector DB: https://python.langchain.com/docs/integrations/vectorstores/chroma/\n",
        "- RAG prompt: https://smith.langchain.com/hub/rlm/rag-prompt\n",
        "\n",
        "#### Papildus resursi\n",
        "- Kā izmantot Google colab: https://colab.research.google.com/drive/16pBJQePbqkz3QFV54L4NIkOn1kwpuRrj\n",
        "- Pievienot atmiņu: https://python.langchain.com/docs/how_to/message_history/\n",
        "- Dažādi veidi datu izgūšanai no dokumentiem: https://python.langchain.com/docs/concepts/retrieval/\n",
        "- Pievienot norādes uz info avotu: https://python.langchain.com/docs/how_to/qa_sources/\n",
        "- LLM fine-tuning ar LlamaIndex: https://docs.llamaindex.ai/en/stable/optimizing/fine-tuning/fine-tuning/\n",
        "- LLM hosting un trenēšana ar SageMaker (maksas pakalpojums): https://aws.amazon.com/sagemaker/"
      ]
    },
    {
      "cell_type": "markdown",
      "metadata": {
        "id": "C5Y-KWsfve-O"
      },
      "source": [
        "### Ievadām savu Google API key"
      ]
    },
    {
      "cell_type": "code",
      "execution_count": null,
      "metadata": {
        "id": "qPFpLDGAr7rO"
      },
      "outputs": [],
      "source": [
        "import getpass\n",
        "import os\n",
        "\n",
        "if \"GOOGLE_API_KEY\" not in os.environ:\n",
        "    os.environ[\"GOOGLE_API_KEY\"] = getpass.getpass(\"Enter your Google AI API key: \")"
      ]
    },
    {
      "cell_type": "markdown",
      "metadata": {
        "id": "orbT8ke8vhnH"
      },
      "source": [
        "### Instalē nepieciešamās komponentes"
      ]
    },
    {
      "cell_type": "code",
      "execution_count": null,
      "metadata": {
        "id": "qFCcfZbMrmk1"
      },
      "outputs": [],
      "source": [
        "%pip install --quiet --upgrade langchain langchain-community langchain-chroma langchain-google-genai pypdf"
      ]
    },
    {
      "cell_type": "markdown",
      "metadata": {
        "id": "aqgA2ZV4vkBq"
      },
      "source": [
        "### Konfigurē modeli"
      ]
    },
    {
      "cell_type": "code",
      "execution_count": null,
      "metadata": {
        "id": "UZ0qjjs_r92b"
      },
      "outputs": [],
      "source": [
        "from langchain_google_genai import ChatGoogleGenerativeAI\n",
        "\n",
        "llm = ChatGoogleGenerativeAI(\n",
        "    model=\"gemini-1.5-flash-001\",\n",
        "    temperature=0,\n",
        "    max_tokens=None,\n",
        "    timeout=None,\n",
        "    max_retries=2,\n",
        ")"
      ]
    },
    {
      "cell_type": "code",
      "execution_count": null,
      "metadata": {
        "id": "Imr-48nIzDDA"
      },
      "outputs": [],
      "source": [
        "import bs4\n",
        "from langchain import hub\n",
        "from langchain_chroma import Chroma\n",
        "\n",
        "from langchain_community.document_loaders import WebBaseLoader\n",
        "from langchain_community.document_loaders import PyPDFLoader\n",
        "\n",
        "from langchain_core.output_parsers import StrOutputParser\n",
        "from langchain_core.runnables import RunnablePassthrough\n",
        "from langchain_google_genai import GoogleGenerativeAIEmbeddings\n",
        "from langchain_text_splitters import RecursiveCharacterTextSplitter"
      ]
    },
    {
      "cell_type": "markdown",
      "metadata": {
        "id": "fCR4sIIm0IQz"
      },
      "source": [
        "### Lejupielādē dokumentus"
      ]
    },
    {
      "cell_type": "code",
      "execution_count": null,
      "metadata": {
        "id": "Hl8LEvXI0H2r"
      },
      "outputs": [],
      "source": [
        "!pip install gdown"
      ]
    },
    {
      "cell_type": "code",
      "execution_count": null,
      "metadata": {
        "id": "MPzLY5aS35gs"
      },
      "outputs": [],
      "source": [
        "!mkdir -p /example"
      ]
    },
    {
      "cell_type": "code",
      "execution_count": null,
      "metadata": {
        "id": "zsrqq7Yq3jY5"
      },
      "outputs": [],
      "source": [
        "import gdown\n",
        "\n",
        "url = 'https://drive.google.com/uc?id=1AaXVGHdUjU8mK96DV9g_myQiAs62HzIm'\n",
        "gdown.download(url, '/example/some_text.pdf', quiet=False)"
      ]
    },
    {
      "cell_type": "markdown",
      "metadata": {
        "id": "A8wDQvR2vmtX"
      },
      "source": [
        "### Apstrādā dokumentus"
      ]
    },
    {
      "cell_type": "markdown",
      "metadata": {
        "id": "UVD8OYKky3CH"
      },
      "source": [
        "##### No WEB"
      ]
    },
    {
      "cell_type": "code",
      "execution_count": null,
      "metadata": {
        "id": "L0G2rgNvsGvC"
      },
      "outputs": [],
      "source": [
        "# Load from web\n",
        "loader_web = WebBaseLoader(\n",
        "    web_paths=(\"https://lilianweng.github.io/posts/2023-06-23-agent/\",),\n",
        "    bs_kwargs=dict(\n",
        "        parse_only=bs4.SoupStrainer(\n",
        "            class_=(\"post-content\", \"post-title\", \"post-header\")\n",
        "        )\n",
        "    ),\n",
        ")\n",
        "docs_web = loader_web.load()"
      ]
    },
    {
      "cell_type": "markdown",
      "metadata": {
        "id": "4YyBfzh5y57J"
      },
      "source": [
        "##### No PDF"
      ]
    },
    {
      "cell_type": "code",
      "execution_count": null,
      "metadata": {
        "id": "2l9c7PQeyb_D"
      },
      "outputs": [],
      "source": [
        "# Load from PDF\n",
        "file_path = \"/example/some_text.pdf\"\n",
        "loader_pdf = PyPDFLoader(file_path)\n",
        "\n",
        "docs_pdf = loader_pdf.load()"
      ]
    },
    {
      "cell_type": "code",
      "execution_count": null,
      "metadata": {
        "id": "0g2p9JjZzcor"
      },
      "outputs": [],
      "source": [
        "docs = docs_web + docs_pdf"
      ]
    },
    {
      "cell_type": "markdown",
      "metadata": {
        "id": "OG_YGSakvq_P"
      },
      "source": [
        "### Pārvērš dokumenta saturu par vektoriem"
      ]
    },
    {
      "cell_type": "code",
      "execution_count": null,
      "metadata": {
        "id": "Q2Cbvex_sPuF"
      },
      "outputs": [],
      "source": [
        "\n",
        "text_splitter = RecursiveCharacterTextSplitter(chunk_size=1000, chunk_overlap=200)\n",
        "splits = text_splitter.split_documents(docs)\n",
        "vectorstore = Chroma.from_documents(documents=splits, embedding=GoogleGenerativeAIEmbeddings(model=\"models/embedding-001\"))\n",
        "\n",
        "# Retrieve and generate using the relevant snippets of the blog.\n",
        "retriever = vectorstore.as_retriever()\n",
        "prompt = hub.pull(\"rlm/rag-prompt\")\n"
      ]
    },
    {
      "cell_type": "markdown",
      "metadata": {
        "id": "0o107dxhvwm5"
      },
      "source": [
        "### Izveido dokumentu čatbotu"
      ]
    },
    {
      "cell_type": "code",
      "execution_count": null,
      "metadata": {
        "id": "kZ6OE2P0sT3D"
      },
      "outputs": [],
      "source": [
        "def format_docs(docs):\n",
        "    return \"\\n\\n\".join(doc.page_content for doc in docs)\n",
        "\n",
        "\n",
        "rag_chain = (\n",
        "    {\"context\": retriever | format_docs, \"question\": RunnablePassthrough()}\n",
        "    | prompt\n",
        "    | llm\n",
        "    | StrOutputParser()\n",
        ")"
      ]
    },
    {
      "cell_type": "markdown",
      "metadata": {
        "id": "jwaPqZ-wv2Av"
      },
      "source": [
        "### Uzdod jautājumu"
      ]
    },
    {
      "cell_type": "code",
      "execution_count": null,
      "metadata": {
        "id": "GEBpctvPsi-C"
      },
      "outputs": [],
      "source": [
        "def query_llm(question):\n",
        "    ai_msg = rag_chain.invoke(question)\n",
        "    print(ai_msg)"
      ]
    },
    {
      "cell_type": "code",
      "execution_count": null,
      "metadata": {
        "id": "aKsV96uvtGqz"
      },
      "outputs": [],
      "source": [
        "question = input(\"Please enter your question: \")\n",
        "print(f\"Question: {question}\")\n",
        "\n",
        "query_llm(question)"
      ]
    }
  ],
  "metadata": {
    "colab": {
      "provenance": []
    },
    "kernelspec": {
      "display_name": "Python 3",
      "name": "python3"
    },
    "language_info": {
      "name": "python"
    }
  },
  "nbformat": 4,
  "nbformat_minor": 0
}
